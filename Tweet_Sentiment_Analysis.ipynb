{
 "cells": [
  {
   "cell_type": "code",
   "execution_count": 1,
   "metadata": {
    "id": "Qh2GgEQShrS-"
   },
   "outputs": [],
   "source": [
    "import pandas as pd\n",
    "import numpy as np\n",
    "import matplotlib.pyplot as plt\n",
    "import datetime"
   ]
  },
  {
   "cell_type": "code",
   "execution_count": 2,
   "metadata": {
    "colab": {
     "base_uri": "https://localhost:8080/"
    },
    "id": "4LEbr4QRQV5y",
    "outputId": "62bc5f51-ae39-49bc-8d79-4f00e375fe7f"
   },
   "outputs": [
    {
     "name": "stdout",
     "output_type": "stream",
     "text": [
      "Looking in indexes: https://pypi.org/simple, https://us-python.pkg.dev/colab-wheels/public/simple/\n",
      "Collecting pyspark\n",
      "  Downloading pyspark-3.3.1.tar.gz (281.4 MB)\n",
      "\u001b[2K     \u001b[90m━━━━━━━━━━━━━━━━━━━━━━━━━━━━━━━━━━━━━━━\u001b[0m \u001b[32m281.4/281.4 MB\u001b[0m \u001b[31m5.8 MB/s\u001b[0m eta \u001b[36m0:00:00\u001b[0m\n",
      "\u001b[?25h  Preparing metadata (setup.py) ... \u001b[?25l\u001b[?25hdone\n",
      "Collecting py4j==0.10.9.5\n",
      "  Downloading py4j-0.10.9.5-py2.py3-none-any.whl (199 kB)\n",
      "\u001b[2K     \u001b[90m━━━━━━━━━━━━━━━━━━━━━━━━━━━━━━━━━━━━━━\u001b[0m \u001b[32m199.7/199.7 KB\u001b[0m \u001b[31m21.7 MB/s\u001b[0m eta \u001b[36m0:00:00\u001b[0m\n",
      "\u001b[?25hBuilding wheels for collected packages: pyspark\n",
      "  Building wheel for pyspark (setup.py) ... \u001b[?25l\u001b[?25hdone\n",
      "  Created wheel for pyspark: filename=pyspark-3.3.1-py2.py3-none-any.whl size=281845512 sha256=380bb083f8e7197def9255b7547248b79bdfba6285477a91894f278aee3e742f\n",
      "  Stored in directory: /root/.cache/pip/wheels/43/dc/11/ec201cd671da62fa9c5cc77078235e40722170ceba231d7598\n",
      "Successfully built pyspark\n",
      "Installing collected packages: py4j, pyspark\n",
      "Successfully installed py4j-0.10.9.5 pyspark-3.3.1\n"
     ]
    }
   ],
   "source": [
    "pip install pyspark"
   ]
  },
  {
   "cell_type": "code",
   "execution_count": 2,
   "metadata": {
    "colab": {
     "base_uri": "https://localhost:8080/"
    },
    "id": "p4KUprfPhyqS",
    "outputId": "6814a859-40c5-4919-8b04-a4e8f3502f5d"
   },
   "outputs": [
    {
     "data": {
      "text/html": [
       "<div>\n",
       "<style scoped>\n",
       "    .dataframe tbody tr th:only-of-type {\n",
       "        vertical-align: middle;\n",
       "    }\n",
       "\n",
       "    .dataframe tbody tr th {\n",
       "        vertical-align: top;\n",
       "    }\n",
       "\n",
       "    .dataframe thead th {\n",
       "        text-align: right;\n",
       "    }\n",
       "</style>\n",
       "<table border=\"1\" class=\"dataframe\">\n",
       "  <thead>\n",
       "    <tr style=\"text-align: right;\">\n",
       "      <th></th>\n",
       "      <th>Ticker</th>\n",
       "      <th>Date</th>\n",
       "      <th>Sentiment_Weighted</th>\n",
       "      <th>Sentiment_MA</th>\n",
       "      <th>Tweets</th>\n",
       "      <th>Tweets_MA</th>\n",
       "      <th>Adj Close</th>\n",
       "      <th>Percent_Change</th>\n",
       "      <th>Percent_Change_Bin</th>\n",
       "    </tr>\n",
       "  </thead>\n",
       "  <tbody>\n",
       "    <tr>\n",
       "      <th>0</th>\n",
       "      <td>aal</td>\n",
       "      <td>11-03-2016</td>\n",
       "      <td>0.363636</td>\n",
       "      <td>0.363636</td>\n",
       "      <td>33</td>\n",
       "      <td>33.000000</td>\n",
       "      <td>40.697006</td>\n",
       "      <td>0.282561</td>\n",
       "      <td>1</td>\n",
       "    </tr>\n",
       "    <tr>\n",
       "      <th>1</th>\n",
       "      <td>aal</td>\n",
       "      <td>14-03-2016</td>\n",
       "      <td>1.105263</td>\n",
       "      <td>0.457310</td>\n",
       "      <td>19</td>\n",
       "      <td>25.000000</td>\n",
       "      <td>40.812000</td>\n",
       "      <td>-1.127042</td>\n",
       "      <td>0</td>\n",
       "    </tr>\n",
       "    <tr>\n",
       "      <th>2</th>\n",
       "      <td>aal</td>\n",
       "      <td>15-03-2016</td>\n",
       "      <td>0.466667</td>\n",
       "      <td>0.523977</td>\n",
       "      <td>45</td>\n",
       "      <td>25.000000</td>\n",
       "      <td>40.352032</td>\n",
       "      <td>0.474956</td>\n",
       "      <td>1</td>\n",
       "    </tr>\n",
       "    <tr>\n",
       "      <th>3</th>\n",
       "      <td>aal</td>\n",
       "      <td>16-03-2016</td>\n",
       "      <td>0.282353</td>\n",
       "      <td>0.618094</td>\n",
       "      <td>85</td>\n",
       "      <td>49.666667</td>\n",
       "      <td>40.543686</td>\n",
       "      <td>-0.496336</td>\n",
       "      <td>0</td>\n",
       "    </tr>\n",
       "    <tr>\n",
       "      <th>4</th>\n",
       "      <td>aal</td>\n",
       "      <td>17-03-2016</td>\n",
       "      <td>0.121951</td>\n",
       "      <td>0.290324</td>\n",
       "      <td>41</td>\n",
       "      <td>57.000000</td>\n",
       "      <td>40.342453</td>\n",
       "      <td>3.182904</td>\n",
       "      <td>2</td>\n",
       "    </tr>\n",
       "    <tr>\n",
       "      <th>...</th>\n",
       "      <td>...</td>\n",
       "      <td>...</td>\n",
       "      <td>...</td>\n",
       "      <td>...</td>\n",
       "      <td>...</td>\n",
       "      <td>...</td>\n",
       "      <td>...</td>\n",
       "      <td>...</td>\n",
       "      <td>...</td>\n",
       "    </tr>\n",
       "    <tr>\n",
       "      <th>4698</th>\n",
       "      <td>wdc</td>\n",
       "      <td>10-06-2016</td>\n",
       "      <td>0.714286</td>\n",
       "      <td>0.837316</td>\n",
       "      <td>35</td>\n",
       "      <td>58.333333</td>\n",
       "      <td>40.854404</td>\n",
       "      <td>-1.216631</td>\n",
       "      <td>0</td>\n",
       "    </tr>\n",
       "    <tr>\n",
       "      <th>4699</th>\n",
       "      <td>wdc</td>\n",
       "      <td>13-06-2016</td>\n",
       "      <td>0.837838</td>\n",
       "      <td>1.014640</td>\n",
       "      <td>37</td>\n",
       "      <td>30.000000</td>\n",
       "      <td>40.357357</td>\n",
       "      <td>0.259286</td>\n",
       "      <td>1</td>\n",
       "    </tr>\n",
       "    <tr>\n",
       "      <th>4700</th>\n",
       "      <td>wdc</td>\n",
       "      <td>14-06-2016</td>\n",
       "      <td>0.815789</td>\n",
       "      <td>0.926209</td>\n",
       "      <td>38</td>\n",
       "      <td>30.333333</td>\n",
       "      <td>40.461998</td>\n",
       "      <td>-0.301720</td>\n",
       "      <td>0</td>\n",
       "    </tr>\n",
       "    <tr>\n",
       "      <th>4701</th>\n",
       "      <td>wdc</td>\n",
       "      <td>15-06-2016</td>\n",
       "      <td>0.766667</td>\n",
       "      <td>0.806765</td>\n",
       "      <td>30</td>\n",
       "      <td>35.000000</td>\n",
       "      <td>40.339916</td>\n",
       "      <td>0.345867</td>\n",
       "      <td>1</td>\n",
       "    </tr>\n",
       "    <tr>\n",
       "      <th>4702</th>\n",
       "      <td>wdc</td>\n",
       "      <td>16-06-2016</td>\n",
       "      <td>2.800000</td>\n",
       "      <td>1.460819</td>\n",
       "      <td>15</td>\n",
       "      <td>27.666667</td>\n",
       "      <td>40.479439</td>\n",
       "      <td>0.366227</td>\n",
       "      <td>1</td>\n",
       "    </tr>\n",
       "  </tbody>\n",
       "</table>\n",
       "<p>4703 rows × 9 columns</p>\n",
       "</div>"
      ],
      "text/plain": [
       "     Ticker        Date  Sentiment_Weighted  Sentiment_MA  Tweets  Tweets_MA  \\\n",
       "0       aal  11-03-2016            0.363636      0.363636      33  33.000000   \n",
       "1       aal  14-03-2016            1.105263      0.457310      19  25.000000   \n",
       "2       aal  15-03-2016            0.466667      0.523977      45  25.000000   \n",
       "3       aal  16-03-2016            0.282353      0.618094      85  49.666667   \n",
       "4       aal  17-03-2016            0.121951      0.290324      41  57.000000   \n",
       "...     ...         ...                 ...           ...     ...        ...   \n",
       "4698    wdc  10-06-2016            0.714286      0.837316      35  58.333333   \n",
       "4699    wdc  13-06-2016            0.837838      1.014640      37  30.000000   \n",
       "4700    wdc  14-06-2016            0.815789      0.926209      38  30.333333   \n",
       "4701    wdc  15-06-2016            0.766667      0.806765      30  35.000000   \n",
       "4702    wdc  16-06-2016            2.800000      1.460819      15  27.666667   \n",
       "\n",
       "      Adj Close  Percent_Change  Percent_Change_Bin  \n",
       "0     40.697006        0.282561                   1  \n",
       "1     40.812000       -1.127042                   0  \n",
       "2     40.352032        0.474956                   1  \n",
       "3     40.543686       -0.496336                   0  \n",
       "4     40.342453        3.182904                   2  \n",
       "...         ...             ...                 ...  \n",
       "4698  40.854404       -1.216631                   0  \n",
       "4699  40.357357        0.259286                   1  \n",
       "4700  40.461998       -0.301720                   0  \n",
       "4701  40.339916        0.345867                   1  \n",
       "4702  40.479439        0.366227                   1  \n",
       "\n",
       "[4703 rows x 9 columns]"
      ]
     },
     "execution_count": 2,
     "metadata": {},
     "output_type": "execute_result"
    }
   ],
   "source": [
    "stocks = pd.read_csv(\"combined_stock_inputs.csv\")\n",
    "stocks"
   ]
  },
  {
   "cell_type": "code",
   "execution_count": 4,
   "metadata": {
    "colab": {
     "base_uri": "https://localhost:8080/"
    },
    "id": "DNrJmYBgh196",
    "outputId": "d75313e0-b5f1-4d9c-f285-1af0fff65fd5"
   },
   "outputs": [
    {
     "data": {
      "text/plain": [
       "dtype('<M8[ns]')"
      ]
     },
     "execution_count": 4,
     "metadata": {},
     "output_type": "execute_result"
    }
   ],
   "source": [
    "stocks['Date']= pd.to_datetime(stocks['Date'], format='%d-%m-%Y', errors='coerce')\n",
    "stocks['Date'].dtype"
   ]
  },
  {
   "cell_type": "code",
   "execution_count": 5,
   "metadata": {
    "id": "RzGi5G5liHEC"
   },
   "outputs": [],
   "source": [
    "from pyspark.sql import SparkSession\n",
    "spark = SparkSession.builder.appName('SparkML').getOrCreate()"
   ]
  },
  {
   "cell_type": "code",
   "execution_count": 6,
   "metadata": {
    "id": "be-PmSNFiZuy"
   },
   "outputs": [],
   "source": [
    "df= spark.createDataFrame(stocks)"
   ]
  },
  {
   "cell_type": "code",
   "execution_count": 7,
   "metadata": {
    "colab": {
     "base_uri": "https://localhost:8080/"
    },
    "id": "xRS6LXIEjJDp",
    "outputId": "9d507d40-58fc-47da-d37d-8f7925d30513"
   },
   "outputs": [
    {
     "name": "stdout",
     "output_type": "stream",
     "text": [
      "+------+-------------------+------------------+------------+------+-----------+-----------+--------------+------------------+\n",
      "|Ticker|               Date|Sentiment_Weighted|Sentiment_MA|Tweets|  Tweets_MA|  Adj Close|Percent_Change|Percent_Change_Bin|\n",
      "+------+-------------------+------------------+------------+------+-----------+-----------+--------------+------------------+\n",
      "|   aal|2016-03-11 00:00:00|       0.363636364| 0.363636364|    33|       33.0|40.69700623|   0.282561446|                 1|\n",
      "|   aal|2016-03-14 00:00:00|       1.105263158| 0.457309942|    19|       25.0|40.81200027|  -1.127042448|                 0|\n",
      "|   aal|2016-03-15 00:00:00|       0.466666667| 0.523976608|    45|       25.0|40.35203171|   0.474955528|                 1|\n",
      "|   aal|2016-03-16 00:00:00|       0.282352941| 0.618094255|    85|49.66666667|40.54368591|  -0.496336003|                 0|\n",
      "|   aal|2016-03-17 00:00:00|        0.12195122| 0.290323609|    41|       57.0|  40.342453|   3.182903706|                 2|\n",
      "|   aal|2016-03-18 00:00:00|       0.409836066| 0.271380075|    61|62.33333333|41.62651443|   0.069069855|                 1|\n",
      "|   aal|2016-03-28 00:00:00|               0.9| 0.625925926|    30|       26.0|39.20213699|   1.075510833|                 1|\n",
      "|   aal|2016-03-29 00:00:00|       0.333333333| 0.614814815|    87|       45.0|39.62376022|   0.072560941|                 1|\n",
      "|   aal|2016-03-30 00:00:00|               0.8| 0.677777778|    65|60.66666667| 39.6525116|  -0.894169973|                 0|\n",
      "|   aal|2016-03-31 00:00:00|       0.707317073| 0.613550136|    41|64.33333333|39.29795074|  -3.633246946|                 0|\n",
      "|   aal|2016-04-01 00:00:00|       0.416666667| 0.641327913|    48|51.33333333|37.87015915|  -0.379574381|                 0|\n",
      "|   aal|2016-04-04 00:00:00|       0.864864865| 0.765707643|    37|71.33333333|37.72641373|  -1.117560772|                 0|\n",
      "|   aal|2016-04-05 00:00:00|       0.452991453| 0.783371461|   117|       72.0|37.30479813|   -0.07706129|                 0|\n",
      "|   aal|2016-04-06 00:00:00|       0.355263158| 0.557706492|    76|76.66666667|37.27605057|  -1.388203661|                 0|\n",
      "|   aal|2016-04-07 00:00:00|       0.318181818|  0.37547881|    66|86.33333333|36.75858307|    0.36498388|                 1|\n",
      "|   aal|2016-04-08 00:00:00|       0.306451613| 0.326632196|    62|       68.0|36.89274597|   0.597401856|                 1|\n",
      "|   aal|2016-04-11 00:00:00|       0.194444444| 0.456228956|    36|30.66666667|37.11314392|   1.187687764|                 1|\n",
      "|   aal|2016-04-12 00:00:00|        0.40562249| 0.394466756|   249|       99.0|37.55393219|   1.913761722|                 1|\n",
      "|   aal|2016-04-13 00:00:00|       0.253164557| 0.284410497|   237|      174.0|38.27262497|   3.079596118|                 2|\n",
      "|   aal|2016-04-14 00:00:00|       0.462962963|  0.37391667|   162|      216.0|39.45126724|  -0.631488584|                 0|\n",
      "+------+-------------------+------------------+------------+------+-----------+-----------+--------------+------------------+\n",
      "only showing top 20 rows\n",
      "\n"
     ]
    }
   ],
   "source": [
    "df.show()"
   ]
  },
  {
   "cell_type": "code",
   "execution_count": 8,
   "metadata": {
    "id": "Rc6VcwuSlz7D"
   },
   "outputs": [],
   "source": [
    "from pyspark.sql.functions import col"
   ]
  },
  {
   "cell_type": "code",
   "execution_count": 9,
   "metadata": {
    "id": "TnWUkJalkC5k"
   },
   "outputs": [],
   "source": [
    "from pyspark.ml.feature import VectorAssembler\n",
    "\n",
    "# Select the columns from the DataFrame\n",
    "X_train = df.select(\"Sentiment_Weighted\", \"Sentiment_MA\", \"Tweets\", \"Tweets_MA\", \"Adj Close\", \"Percent_Change_Bin\")\n",
    "y_train = df.select(\"Percent_Change\")\n",
    "\n",
    "# Convert the DataFrame to a RDD\n",
    "X_train_rdd = X_train.rdd\n",
    "y_train_rdd = y_train.rdd\n",
    "\n",
    "# Use VectorAssembler to combine the columns into a single feature vector column\n",
    "assembler = VectorAssembler(inputCols=['Sentiment_Weighted', 'Sentiment_MA', 'Tweets', 'Tweets_MA', 'Adj Close', 'Percent_Change_Bin'], outputCol='features')\n",
    "X_train_vector = assembler.transform(X_train)"
   ]
  },
  {
   "cell_type": "code",
   "execution_count": 10,
   "metadata": {
    "id": "-39zLlTokHRb"
   },
   "outputs": [],
   "source": [
    "df1 = assembler.transform(df)"
   ]
  },
  {
   "cell_type": "code",
   "execution_count": 11,
   "metadata": {
    "colab": {
     "base_uri": "https://localhost:8080/"
    },
    "id": "zDEivA8Bngd0",
    "outputId": "a2b64b7d-dfbb-47fb-9acd-a7e9758818e1"
   },
   "outputs": [
    {
     "name": "stdout",
     "output_type": "stream",
     "text": [
      "+------+-------------------+------------------+------------+------+-----------+-----------+--------------+------------------+--------------------+\n",
      "|Ticker|               Date|Sentiment_Weighted|Sentiment_MA|Tweets|  Tweets_MA|  Adj Close|Percent_Change|Percent_Change_Bin|            features|\n",
      "+------+-------------------+------------------+------------+------+-----------+-----------+--------------+------------------+--------------------+\n",
      "|   aal|2016-03-11 00:00:00|       0.363636364| 0.363636364|    33|       33.0|40.69700623|   0.282561446|                 1|[0.363636364,0.36...|\n",
      "|   aal|2016-03-14 00:00:00|       1.105263158| 0.457309942|    19|       25.0|40.81200027|  -1.127042448|                 0|[1.105263158,0.45...|\n",
      "|   aal|2016-03-15 00:00:00|       0.466666667| 0.523976608|    45|       25.0|40.35203171|   0.474955528|                 1|[0.466666667,0.52...|\n",
      "|   aal|2016-03-16 00:00:00|       0.282352941| 0.618094255|    85|49.66666667|40.54368591|  -0.496336003|                 0|[0.282352941,0.61...|\n",
      "|   aal|2016-03-17 00:00:00|        0.12195122| 0.290323609|    41|       57.0|  40.342453|   3.182903706|                 2|[0.12195122,0.290...|\n",
      "|   aal|2016-03-18 00:00:00|       0.409836066| 0.271380075|    61|62.33333333|41.62651443|   0.069069855|                 1|[0.409836066,0.27...|\n",
      "|   aal|2016-03-28 00:00:00|               0.9| 0.625925926|    30|       26.0|39.20213699|   1.075510833|                 1|[0.9,0.625925926,...|\n",
      "|   aal|2016-03-29 00:00:00|       0.333333333| 0.614814815|    87|       45.0|39.62376022|   0.072560941|                 1|[0.333333333,0.61...|\n",
      "|   aal|2016-03-30 00:00:00|               0.8| 0.677777778|    65|60.66666667| 39.6525116|  -0.894169973|                 0|[0.8,0.677777778,...|\n",
      "|   aal|2016-03-31 00:00:00|       0.707317073| 0.613550136|    41|64.33333333|39.29795074|  -3.633246946|                 0|[0.707317073,0.61...|\n",
      "|   aal|2016-04-01 00:00:00|       0.416666667| 0.641327913|    48|51.33333333|37.87015915|  -0.379574381|                 0|[0.416666667,0.64...|\n",
      "|   aal|2016-04-04 00:00:00|       0.864864865| 0.765707643|    37|71.33333333|37.72641373|  -1.117560772|                 0|[0.864864865,0.76...|\n",
      "|   aal|2016-04-05 00:00:00|       0.452991453| 0.783371461|   117|       72.0|37.30479813|   -0.07706129|                 0|[0.452991453,0.78...|\n",
      "|   aal|2016-04-06 00:00:00|       0.355263158| 0.557706492|    76|76.66666667|37.27605057|  -1.388203661|                 0|[0.355263158,0.55...|\n",
      "|   aal|2016-04-07 00:00:00|       0.318181818|  0.37547881|    66|86.33333333|36.75858307|    0.36498388|                 1|[0.318181818,0.37...|\n",
      "|   aal|2016-04-08 00:00:00|       0.306451613| 0.326632196|    62|       68.0|36.89274597|   0.597401856|                 1|[0.306451613,0.32...|\n",
      "|   aal|2016-04-11 00:00:00|       0.194444444| 0.456228956|    36|30.66666667|37.11314392|   1.187687764|                 1|[0.194444444,0.45...|\n",
      "|   aal|2016-04-12 00:00:00|        0.40562249| 0.394466756|   249|       99.0|37.55393219|   1.913761722|                 1|[0.40562249,0.394...|\n",
      "|   aal|2016-04-13 00:00:00|       0.253164557| 0.284410497|   237|      174.0|38.27262497|   3.079596118|                 2|[0.253164557,0.28...|\n",
      "|   aal|2016-04-14 00:00:00|       0.462962963|  0.37391667|   162|      216.0|39.45126724|  -0.631488584|                 0|[0.462962963,0.37...|\n",
      "+------+-------------------+------------------+------------+------+-----------+-----------+--------------+------------------+--------------------+\n",
      "only showing top 20 rows\n",
      "\n"
     ]
    }
   ],
   "source": [
    "df1.show()"
   ]
  },
  {
   "cell_type": "code",
   "execution_count": 12,
   "metadata": {
    "id": "5briFeyGnkPU"
   },
   "outputs": [],
   "source": [
    "df2= df1.select(\"features\", \"Percent_Change\")"
   ]
  },
  {
   "cell_type": "code",
   "execution_count": 13,
   "metadata": {
    "colab": {
     "base_uri": "https://localhost:8080/"
    },
    "id": "BZhh1WKOoEW1",
    "outputId": "26d670fb-553f-4660-d722-780765acff1d"
   },
   "outputs": [
    {
     "name": "stdout",
     "output_type": "stream",
     "text": [
      "+--------------------+--------------+\n",
      "|            features|Percent_Change|\n",
      "+--------------------+--------------+\n",
      "|[0.363636364,0.36...|   0.282561446|\n",
      "|[1.105263158,0.45...|  -1.127042448|\n",
      "|[0.466666667,0.52...|   0.474955528|\n",
      "|[0.282352941,0.61...|  -0.496336003|\n",
      "|[0.12195122,0.290...|   3.182903706|\n",
      "|[0.409836066,0.27...|   0.069069855|\n",
      "|[0.9,0.625925926,...|   1.075510833|\n",
      "|[0.333333333,0.61...|   0.072560941|\n",
      "|[0.8,0.677777778,...|  -0.894169973|\n",
      "|[0.707317073,0.61...|  -3.633246946|\n",
      "|[0.416666667,0.64...|  -0.379574381|\n",
      "|[0.864864865,0.76...|  -1.117560772|\n",
      "|[0.452991453,0.78...|   -0.07706129|\n",
      "|[0.355263158,0.55...|  -1.388203661|\n",
      "|[0.318181818,0.37...|    0.36498388|\n",
      "|[0.306451613,0.32...|   0.597401856|\n",
      "|[0.194444444,0.45...|   1.187687764|\n",
      "|[0.40562249,0.394...|   1.913761722|\n",
      "|[0.253164557,0.28...|   3.079596118|\n",
      "|[0.462962963,0.37...|  -0.631488584|\n",
      "+--------------------+--------------+\n",
      "only showing top 20 rows\n",
      "\n"
     ]
    }
   ],
   "source": [
    "df2.show()"
   ]
  },
  {
   "cell_type": "code",
   "execution_count": 14,
   "metadata": {
    "colab": {
     "base_uri": "https://localhost:8080/"
    },
    "id": "0P_NhwxioFbU",
    "outputId": "f94b270a-69a6-4447-8f7e-c4f61281e015"
   },
   "outputs": [
    {
     "data": {
      "text/plain": [
       "[Row(Ticker='aal', Date=datetime.datetime(2016, 3, 11, 0, 0), Sentiment_Weighted=0.363636364, Sentiment_MA=0.363636364, Tweets=33, Tweets_MA=33.0, Adj Close=40.69700623, Percent_Change=0.282561446, Percent_Change_Bin=1),\n",
       " Row(Ticker='aal', Date=datetime.datetime(2016, 3, 14, 0, 0), Sentiment_Weighted=1.105263158, Sentiment_MA=0.457309942, Tweets=19, Tweets_MA=25.0, Adj Close=40.81200027, Percent_Change=-1.127042448, Percent_Change_Bin=0),\n",
       " Row(Ticker='aal', Date=datetime.datetime(2016, 3, 15, 0, 0), Sentiment_Weighted=0.466666667, Sentiment_MA=0.523976608, Tweets=45, Tweets_MA=25.0, Adj Close=40.35203171, Percent_Change=0.474955528, Percent_Change_Bin=1)]"
      ]
     },
     "execution_count": 14,
     "metadata": {},
     "output_type": "execute_result"
    }
   ],
   "source": [
    "df.take(3)"
   ]
  },
  {
   "cell_type": "code",
   "execution_count": 15,
   "metadata": {
    "colab": {
     "base_uri": "https://localhost:8080/"
    },
    "id": "81vfql8yoJhk",
    "outputId": "88c7b16b-2a03-4cad-e287-eec34f2b21d9"
   },
   "outputs": [
    {
     "name": "stdout",
     "output_type": "stream",
     "text": [
      "-0.016387092392406412\n",
      "-0.03864494378907382\n",
      "-0.0008509208276530713\n",
      "-0.005698015259264397\n",
      "-0.038419675806204104\n",
      "0.5954081336184662\n"
     ]
    }
   ],
   "source": [
    "from pyspark.sql.functions import *\n",
    "print(df.stat.corr('Sentiment_Weighted','Percent_Change'))\n",
    "print(df.stat.corr('Sentiment_MA','Percent_Change'))\n",
    "print(df.stat.corr('Tweets','Percent_Change'))\n",
    "print(df.stat.corr('Tweets_MA','Percent_Change'))\n",
    "print(df.stat.corr('Adj Close','Percent_Change'))\n",
    "print(df.stat.corr('Percent_Change_Bin','Percent_Change'))"
   ]
  },
  {
   "cell_type": "code",
   "execution_count": 16,
   "metadata": {
    "id": "3xEPjLVUoiJ1"
   },
   "outputs": [],
   "source": [
    "from pyspark.ml.regression import LinearRegression\n",
    "train_data,test_data=df2.randomSplit([0.8,0.2])\n",
    "applyml=LinearRegression(featuresCol='features', labelCol='Percent_Change')\n",
    "applyml=applyml.fit(train_data)"
   ]
  },
  {
   "cell_type": "code",
   "execution_count": 17,
   "metadata": {
    "colab": {
     "base_uri": "https://localhost:8080/"
    },
    "id": "rQNPzTMJqlOe",
    "outputId": "addec6b3-6433-4ccb-adb7-3b81a9a26dda"
   },
   "outputs": [
    {
     "name": "stdout",
     "output_type": "stream",
     "text": [
      "+--------------------+--------------+-------------------+\n",
      "|            features|Percent_Change|         prediction|\n",
      "+--------------------+--------------+-------------------+\n",
      "|[-1.0,-1.0,1.0,1....|   1.053884179| 0.9907759316400973|\n",
      "|[-0.428571429,0.5...|   0.230070681| 0.8124770205588292|\n",
      "|[-0.4,-0.06211180...|   -4.49061304|-1.4536970628953392|\n",
      "|[-0.2,0.522657952...|  -2.557419304|-1.4952551212219103|\n",
      "|[-0.166666667,0.4...|   1.232456767| 0.8544332926692233|\n",
      "|[-0.142857143,0.6...|   2.853461292| 3.1454917838753547|\n",
      "|[-0.066666667,0.2...|    1.11332288| 0.8586525391548241|\n",
      "|[-0.043478261,0.7...|  -0.174652592|-1.4578755964738035|\n",
      "|[0.0,0.405128205,...|  -0.799859461|-1.4496529818615302|\n",
      "|[0.0,0.517598344,...|  -2.592681568|-1.4816418517786156|\n",
      "|[0.0,0.611111111,...|   1.700277737| 0.8555164515107441|\n",
      "|[0.0,0.788888889,...|  -0.939107564| -1.504163621554662|\n",
      "|[0.1,-0.363492063...|  -3.127600549|-1.4252197163285618|\n",
      "|[0.133333333,0.39...|  -0.065764367|-1.4025046568845987|\n",
      "|[0.181818182,0.76...|   0.795054373| 0.8700149646650317|\n",
      "|[0.1875,0.3449074...|   2.103461789| 3.2843991468427403|\n",
      "|[0.2,0.383619984,...|  -1.519142616|-1.4003222047054669|\n",
      "|[0.210526316,0.75...|  -0.503041102|-1.4756599504023808|\n",
      "|[0.220930233,0.81...|  -5.138081264|-1.4502895624282435|\n",
      "|[0.230769231,0.69...|  -2.108212207| -1.457480612092125|\n",
      "+--------------------+--------------+-------------------+\n",
      "only showing top 20 rows\n",
      "\n"
     ]
    }
   ],
   "source": [
    "predict=applyml.evaluate(test_data)\n",
    "predict.predictions.show()"
   ]
  },
  {
   "cell_type": "code",
   "execution_count": 18,
   "metadata": {
    "colab": {
     "base_uri": "https://localhost:8080/"
    },
    "id": "1zffNgm_q5B-",
    "outputId": "790b31c4-e53d-4910-e3be-134a4c37635d"
   },
   "outputs": [
    {
     "name": "stdout",
     "output_type": "stream",
     "text": [
      "0.8202459355936299\n",
      "3.959378576847427\n",
      "1.989818729645348\n",
      "0.3555375427205414\n"
     ]
    }
   ],
   "source": [
    "print(predict.meanAbsoluteError)\n",
    "print(predict.meanSquaredError)\n",
    "print(predict.rootMeanSquaredError)\n",
    "print(predict.r2)"
   ]
  },
  {
   "cell_type": "code",
   "execution_count": 19,
   "metadata": {
    "colab": {
     "base_uri": "https://localhost:8080/",
     "height": 70
    },
    "id": "xoVnbex3zbOq",
    "outputId": "10ed5072-4c51-4744-ec03-ba17df598df2"
   },
   "outputs": [
    {
     "data": {
      "application/vnd.google.colaboratory.intrinsic+json": {
       "type": "string"
      },
      "text/plain": [
       "\"x_val= stocks['Ticker']\\ny1_val= stocks['Percent_Change']\\ny2_val= predict.predictions['prediction']\\n\\nfig, ax = plt.subplots()\\nax.plot(x_val, y1_val, label='Actual percentage change', color='orange')\\nax.plot(x_val, y2_val, label='Predicted percent change', color='green')\\n\\nax.set_xlabel('Stocks')\\nax.set_ylabel('Percentage change')\\nax.legend()\\nplt.show()\""
      ]
     },
     "execution_count": 19,
     "metadata": {},
     "output_type": "execute_result"
    }
   ],
   "source": [
    "'''x_val= stocks['Ticker']\n",
    "y1_val= stocks['Percent_Change']\n",
    "y2_val= predict.predictions['prediction']\n",
    "\n",
    "fig, ax = plt.subplots()\n",
    "ax.plot(x_val, y1_val, label='Actual percentage change', color='orange')\n",
    "ax.plot(x_val, y2_val, label='Predicted percent change', color='green')\n",
    "\n",
    "ax.set_xlabel('Stocks')\n",
    "ax.set_ylabel('Percentage change')\n",
    "ax.legend()\n",
    "plt.show()'''"
   ]
  },
  {
   "cell_type": "code",
   "execution_count": 21,
   "metadata": {
    "colab": {
     "base_uri": "https://localhost:8080/",
     "height": 564
    },
    "id": "lFdcVNh0q7Qu",
    "outputId": "9ff23831-f1e8-4a83-f141-55474c659e28"
   },
   "outputs": [
    {
     "name": "stdout",
     "output_type": "stream",
     "text": [
      "(1121, 4) (1121,)\n",
      "(3582, 4) (3582,)\n",
      "\n",
      "\n",
      "0.208821887213847\n",
      "\n",
      "\n"
     ]
    },
    {
     "data": {
      "image/png": "[encoded data removed]",
      "text/plain": [
       "<Figure size 1080x504 with 1 Axes>"
      ]
     },
     "metadata": {
      "needs_background": "light"
     },
     "output_type": "display_data"
    }
   ],
   "source": [
    "#Visualising the difference in profit by investing in all stocks equally vs stocks chosen by the bot\n",
    "\n",
    "from sklearn.ensemble import RandomForestClassifier\n",
    "\n",
    "# Sort values in stock sentiment/pricing data by date and ticker name \n",
    "stocks = pd.read_csv(\"/content/drive/MyDrive/combined_stock_inputs.csv\")\n",
    "stocks['Date']= pd.to_datetime(stocks['Date'], format='%d-%m-%Y', errors='coerce')\n",
    "\n",
    "# Use first 2 months of data as test data\n",
    "d_train = stocks.loc[stocks['Date'] < datetime.datetime(year=2016, month=4, day=15)].reset_index(drop=True)\n",
    "\n",
    "# Use last 2-3 months as test data \n",
    "d_test = stocks.loc[stocks['Date'] >= datetime.datetime(year=2016, month=4, day=15)].reset_index(drop=True)\n",
    "\n",
    "# Remove extra columns from train data \n",
    "X_train = d_train[['Sentiment_Weighted', 'Sentiment_MA', 'Tweets', 'Tweets_MA']].values\n",
    "y_train = d_train['Percent_Change_Bin'].values\n",
    "\n",
    "# Remove extra solumns from test data \n",
    "X_test = d_test[['Sentiment_Weighted', 'Sentiment_MA', 'Tweets', 'Tweets_MA']].values\n",
    "y_test = d_test['Percent_Change_Bin'].values\n",
    "\n",
    "print(X_train.shape, y_train.shape)\n",
    "print(X_test.shape, y_test.shape)\n",
    "print('\\n')\n",
    "\n",
    "# Define random forest classifier\n",
    "model = RandomForestClassifier(random_state=1)\n",
    "\n",
    "# Train model with training data\n",
    "model.fit(X_train, y_train)\n",
    "\n",
    "# Predict the test data \n",
    "preds = model.predict(X_test)\n",
    "\n",
    "# Print the percent of predictions that resulted in investing in a losing stock\n",
    "print(len(np.where( (preds>0) & (y_test==0) )[0])/len(preds))\n",
    "print('\\n')\n",
    "\n",
    "# Add predictions to test dataset \n",
    "d_test['Prediction'] = preds\n",
    "\n",
    "# Initialize starting capital to test model effectiveness\n",
    "bot_capital = 10000\n",
    "long_capital = 10000\n",
    "\n",
    "# Add capital as first data points\n",
    "bots = [bot_capital]\n",
    "longs = [long_capital]\n",
    "\n",
    "# Get unique dates\n",
    "dates = d_test['Date'].sort_values().unique()\n",
    "\n",
    "# For each date\n",
    "for date in dates:\n",
    "    # filter dataframe to date\n",
    "    temp = d_test[d_test['Date']==date]\n",
    "    \n",
    "    # Calculate profit from investing equal parts to all tickers in timeframe\n",
    "    long_capital = long_capital + ((long_capital/len(temp)) * (temp['Percent_Change']/100)).sum()\n",
    "    \n",
    "    # Calculate profit from using the Twitter bot to determine what stocks to invest in \n",
    "    temp = temp[temp['Prediction']>0]\n",
    "    bot_capital = bot_capital + ((bot_capital/len(temp)) * (temp['Percent_Change']/100)).sum()\n",
    "    \n",
    "    # Keep track of the account totals over time \n",
    "    longs.append(long_capital)\n",
    "    bots.append(bot_capital)\n",
    "    \n",
    "    \n",
    "# Plot the accounts balances over time\n",
    "plt.figure(figsize=(15,7))\n",
    "plt.xlabel(\"Time\")\n",
    "plt.ylabel(\"Capital\")\n",
    "plt.plot(dates, longs[1:], c='b', label='Investing in all stocks equally')\n",
    "plt.plot(dates, bots[1:], c='r', label='Investing based on tweets sentiment')\n",
    "plt.legend()\n",
    "plt.show()\n",
    "\n",
    "# Show the return from each account over time \n",
    "#print('Long-Term Investment:', round(longs[-1],2), '(', round((longs[-1]-longs[0])/longs[0]*100,2), '% )')\n",
    "#print('Bot Trading:', round(bots[-1],2), '(', round((bots[-1]-bots[0])/bots[0]*100,2), '% )')"
   ]
  }
 ],
 "metadata": {
  "colab": {
   "provenance": []
  },
  "kernelspec": {
   "display_name": "Python 3",
   "language": "python",
   "name": "python3"
  },
  "language_info": {
   "codemirror_mode": {
    "name": "ipython",
    "version": 3
   },
   "file_extension": ".py",
   "mimetype": "text/x-python",
   "name": "python",
   "nbconvert_exporter": "python",
   "pygments_lexer": "ipython3",
   "version": "3.8.8"
  }
 },
 "nbformat": 4,
 "nbformat_minor": 1
}
